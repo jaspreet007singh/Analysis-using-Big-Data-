{
 "cells": [
  {
   "cell_type": "markdown",
   "id": "30375019-a93b-45f3-b404-90b535da3a4b",
   "metadata": {},
   "source": [
    "### Data 603 project"
   ]
  },
  {
   "cell_type": "code",
   "execution_count": 1,
   "id": "5a2b2c68-7d7e-4c12-8a6a-078168f4b42c",
   "metadata": {},
   "outputs": [],
   "source": [
    "import import_ipynb"
   ]
  },
  {
   "cell_type": "code",
   "execution_count": 2,
   "id": "d03eb392-05d4-4fa2-b2d2-db830134c1a4",
   "metadata": {},
   "outputs": [
    {
     "name": "stdout",
     "output_type": "stream",
     "text": [
      "importing Jupyter notebook from HDFSLauncher.ipynb\n"
     ]
    }
   ],
   "source": [
    "import HDFSLauncher"
   ]
  },
  {
   "cell_type": "code",
   "execution_count": 3,
   "id": "af500f5c-f5d9-4209-93ee-b36924796b60",
   "metadata": {},
   "outputs": [],
   "source": [
    "hdfs=HDFSLauncher.get_hdfs()"
   ]
  },
  {
   "cell_type": "code",
   "execution_count": null,
   "id": "82eb44b1-4d7c-4f79-acae-22914eba389b",
   "metadata": {},
   "outputs": [],
   "source": [
    "hdfs.mkdir(\"/data/projects/fall_2022/jbhatia1/flight_dataset\")"
   ]
  },
  {
   "cell_type": "code",
   "execution_count": 7,
   "id": "2db65465-288e-4ed4-8a36-386d3be2f906",
   "metadata": {},
   "outputs": [],
   "source": [
    "with open('Combined_Flights_2022.csv','rb') as fid:\n",
    "          hdfs.upload('/data/projects/fall_2022/jbhatia1/flight_dataset/Combined_Flights_2022.csv',fid)"
   ]
  },
  {
   "cell_type": "code",
   "execution_count": 4,
   "id": "818db8ff-9e22-47d3-848a-c1a9e560e24f",
   "metadata": {},
   "outputs": [
    {
     "data": {
      "text/plain": [
       "['/data/projects/fall_2022/jbhatia1/flight_dataset/Combined_Flights_2021.csv',\n",
       " '/data/projects/fall_2022/jbhatia1/flight_dataset/Combined_Flights_2022.csv']"
      ]
     },
     "execution_count": 4,
     "metadata": {},
     "output_type": "execute_result"
    }
   ],
   "source": [
    "hdfs.ls(\"/data/projects/fall_2022/jbhatia1/flight_dataset\")"
   ]
  },
  {
   "cell_type": "code",
   "execution_count": 5,
   "id": "8db7059a-c3e0-405a-8797-a395d796c2bb",
   "metadata": {},
   "outputs": [
    {
     "name": "stdout",
     "output_type": "stream",
     "text": [
      "importing Jupyter notebook from SparkLauncher.ipynb\n"
     ]
    }
   ],
   "source": [
    "import SparkLauncher"
   ]
  },
  {
   "cell_type": "code",
   "execution_count": 6,
   "id": "9e7f461d-2775-42a0-9eb8-8283a92c06d6",
   "metadata": {},
   "outputs": [],
   "source": [
    "conf= SparkLauncher.get_spark_conf()"
   ]
  },
  {
   "cell_type": "code",
   "execution_count": 7,
   "id": "3110cc26-7921-4801-9e7a-0edf7b5b7f79",
   "metadata": {},
   "outputs": [
    {
     "name": "stdout",
     "output_type": "stream",
     "text": [
      "Creating Spark Session: jbhatia1_data603_spark_20221211_130405\n"
     ]
    }
   ],
   "source": [
    "spark=SparkLauncher.get_spark_session(conf, pack_venv=False)"
   ]
  },
  {
   "cell_type": "code",
   "execution_count": 8,
   "id": "5ea989cd-1eb5-4351-8cec-a6a81b1fb8fe",
   "metadata": {},
   "outputs": [
    {
     "data": {
      "text/html": [
       "\n",
       "            <div>\n",
       "                <p><b>SparkSession - hive</b></p>\n",
       "                \n",
       "        <div>\n",
       "            <p><b>SparkContext</b></p>\n",
       "\n",
       "            <p><a href=\"http://login.hdp-internal:4044\">Spark UI</a></p>\n",
       "\n",
       "            <dl>\n",
       "              <dt>Version</dt>\n",
       "                <dd><code>v2.4.0-cdh6.2.0</code></dd>\n",
       "              <dt>Master</dt>\n",
       "                <dd><code>yarn</code></dd>\n",
       "              <dt>AppName</dt>\n",
       "                <dd><code>jbhatia1_data603_spark_20221211_130405</code></dd>\n",
       "            </dl>\n",
       "        </div>\n",
       "        \n",
       "            </div>\n",
       "        "
      ],
      "text/plain": [
       "<pyspark.sql.session.SparkSession at 0x7fc23be62da0>"
      ]
     },
     "execution_count": 8,
     "metadata": {},
     "output_type": "execute_result"
    }
   ],
   "source": [
    "spark"
   ]
  },
  {
   "cell_type": "code",
   "execution_count": 9,
   "id": "7812042a-df38-48da-b384-82634c806f32",
   "metadata": {},
   "outputs": [],
   "source": [
    "flight_2022 = spark.read.csv('/data/projects/fall_2022/jbhatia1/flight_dataset/Combined_Flights_2022.csv', header = True)"
   ]
  },
  {
   "cell_type": "code",
   "execution_count": 10,
   "id": "068b2789-02c8-4a9c-b9b7-3285790be342",
   "metadata": {},
   "outputs": [
    {
     "data": {
      "text/html": [
       "<div>\n",
       "<style scoped>\n",
       "    .dataframe tbody tr th:only-of-type {\n",
       "        vertical-align: middle;\n",
       "    }\n",
       "\n",
       "    .dataframe tbody tr th {\n",
       "        vertical-align: top;\n",
       "    }\n",
       "\n",
       "    .dataframe thead th {\n",
       "        text-align: right;\n",
       "    }\n",
       "</style>\n",
       "<table border=\"1\" class=\"dataframe\">\n",
       "  <thead>\n",
       "    <tr style=\"text-align: right;\">\n",
       "      <th></th>\n",
       "      <th>FlightDate</th>\n",
       "      <th>Airline</th>\n",
       "      <th>Origin</th>\n",
       "      <th>Dest</th>\n",
       "      <th>Cancelled</th>\n",
       "      <th>Diverted</th>\n",
       "      <th>CRSDepTime</th>\n",
       "      <th>DepTime</th>\n",
       "      <th>DepDelayMinutes</th>\n",
       "      <th>DepDelay</th>\n",
       "      <th>...</th>\n",
       "      <th>WheelsOff</th>\n",
       "      <th>WheelsOn</th>\n",
       "      <th>TaxiIn</th>\n",
       "      <th>CRSArrTime</th>\n",
       "      <th>ArrDelay</th>\n",
       "      <th>ArrDel15</th>\n",
       "      <th>ArrivalDelayGroups</th>\n",
       "      <th>ArrTimeBlk</th>\n",
       "      <th>DistanceGroup</th>\n",
       "      <th>DivAirportLandings</th>\n",
       "    </tr>\n",
       "  </thead>\n",
       "  <tbody>\n",
       "    <tr>\n",
       "      <th>0</th>\n",
       "      <td>2022-04-04</td>\n",
       "      <td>Commutair Aka Champlain Enterprises, Inc.</td>\n",
       "      <td>GJT</td>\n",
       "      <td>DEN</td>\n",
       "      <td>False</td>\n",
       "      <td>False</td>\n",
       "      <td>1133</td>\n",
       "      <td>1123.0</td>\n",
       "      <td>0.0</td>\n",
       "      <td>-10.0</td>\n",
       "      <td>...</td>\n",
       "      <td>1140.0</td>\n",
       "      <td>1220.0</td>\n",
       "      <td>8.0</td>\n",
       "      <td>1245</td>\n",
       "      <td>-17.0</td>\n",
       "      <td>0.0</td>\n",
       "      <td>-2.0</td>\n",
       "      <td>1200-1259</td>\n",
       "      <td>1</td>\n",
       "      <td>0</td>\n",
       "    </tr>\n",
       "    <tr>\n",
       "      <th>1</th>\n",
       "      <td>2022-04-04</td>\n",
       "      <td>Commutair Aka Champlain Enterprises, Inc.</td>\n",
       "      <td>HRL</td>\n",
       "      <td>IAH</td>\n",
       "      <td>False</td>\n",
       "      <td>False</td>\n",
       "      <td>732</td>\n",
       "      <td>728.0</td>\n",
       "      <td>0.0</td>\n",
       "      <td>-4.0</td>\n",
       "      <td>...</td>\n",
       "      <td>744.0</td>\n",
       "      <td>839.0</td>\n",
       "      <td>9.0</td>\n",
       "      <td>849</td>\n",
       "      <td>-1.0</td>\n",
       "      <td>0.0</td>\n",
       "      <td>-1.0</td>\n",
       "      <td>0800-0859</td>\n",
       "      <td>2</td>\n",
       "      <td>0</td>\n",
       "    </tr>\n",
       "    <tr>\n",
       "      <th>2</th>\n",
       "      <td>2022-04-04</td>\n",
       "      <td>Commutair Aka Champlain Enterprises, Inc.</td>\n",
       "      <td>DRO</td>\n",
       "      <td>DEN</td>\n",
       "      <td>False</td>\n",
       "      <td>False</td>\n",
       "      <td>1529</td>\n",
       "      <td>1514.0</td>\n",
       "      <td>0.0</td>\n",
       "      <td>-15.0</td>\n",
       "      <td>...</td>\n",
       "      <td>1535.0</td>\n",
       "      <td>1622.0</td>\n",
       "      <td>14.0</td>\n",
       "      <td>1639</td>\n",
       "      <td>-3.0</td>\n",
       "      <td>0.0</td>\n",
       "      <td>-1.0</td>\n",
       "      <td>1600-1659</td>\n",
       "      <td>2</td>\n",
       "      <td>0</td>\n",
       "    </tr>\n",
       "    <tr>\n",
       "      <th>3</th>\n",
       "      <td>2022-04-04</td>\n",
       "      <td>Commutair Aka Champlain Enterprises, Inc.</td>\n",
       "      <td>IAH</td>\n",
       "      <td>GPT</td>\n",
       "      <td>False</td>\n",
       "      <td>False</td>\n",
       "      <td>1435</td>\n",
       "      <td>1430.0</td>\n",
       "      <td>0.0</td>\n",
       "      <td>-5.0</td>\n",
       "      <td>...</td>\n",
       "      <td>1446.0</td>\n",
       "      <td>1543.0</td>\n",
       "      <td>4.0</td>\n",
       "      <td>1605</td>\n",
       "      <td>-18.0</td>\n",
       "      <td>0.0</td>\n",
       "      <td>-2.0</td>\n",
       "      <td>1600-1659</td>\n",
       "      <td>2</td>\n",
       "      <td>0</td>\n",
       "    </tr>\n",
       "    <tr>\n",
       "      <th>4</th>\n",
       "      <td>2022-04-04</td>\n",
       "      <td>Commutair Aka Champlain Enterprises, Inc.</td>\n",
       "      <td>DRO</td>\n",
       "      <td>DEN</td>\n",
       "      <td>False</td>\n",
       "      <td>False</td>\n",
       "      <td>1135</td>\n",
       "      <td>1135.0</td>\n",
       "      <td>0.0</td>\n",
       "      <td>0.0</td>\n",
       "      <td>...</td>\n",
       "      <td>1154.0</td>\n",
       "      <td>1243.0</td>\n",
       "      <td>8.0</td>\n",
       "      <td>1245</td>\n",
       "      <td>6.0</td>\n",
       "      <td>0.0</td>\n",
       "      <td>0.0</td>\n",
       "      <td>1200-1259</td>\n",
       "      <td>2</td>\n",
       "      <td>0</td>\n",
       "    </tr>\n",
       "  </tbody>\n",
       "</table>\n",
       "<p>5 rows × 61 columns</p>\n",
       "</div>"
      ],
      "text/plain": [
       "   FlightDate                                    Airline Origin Dest  \\\n",
       "0  2022-04-04  Commutair Aka Champlain Enterprises, Inc.    GJT  DEN   \n",
       "1  2022-04-04  Commutair Aka Champlain Enterprises, Inc.    HRL  IAH   \n",
       "2  2022-04-04  Commutair Aka Champlain Enterprises, Inc.    DRO  DEN   \n",
       "3  2022-04-04  Commutair Aka Champlain Enterprises, Inc.    IAH  GPT   \n",
       "4  2022-04-04  Commutair Aka Champlain Enterprises, Inc.    DRO  DEN   \n",
       "\n",
       "  Cancelled Diverted CRSDepTime DepTime DepDelayMinutes DepDelay  ...  \\\n",
       "0     False    False       1133  1123.0             0.0    -10.0  ...   \n",
       "1     False    False        732   728.0             0.0     -4.0  ...   \n",
       "2     False    False       1529  1514.0             0.0    -15.0  ...   \n",
       "3     False    False       1435  1430.0             0.0     -5.0  ...   \n",
       "4     False    False       1135  1135.0             0.0      0.0  ...   \n",
       "\n",
       "  WheelsOff WheelsOn TaxiIn CRSArrTime ArrDelay ArrDel15 ArrivalDelayGroups  \\\n",
       "0    1140.0   1220.0    8.0       1245    -17.0      0.0               -2.0   \n",
       "1     744.0    839.0    9.0        849     -1.0      0.0               -1.0   \n",
       "2    1535.0   1622.0   14.0       1639     -3.0      0.0               -1.0   \n",
       "3    1446.0   1543.0    4.0       1605    -18.0      0.0               -2.0   \n",
       "4    1154.0   1243.0    8.0       1245      6.0      0.0                0.0   \n",
       "\n",
       "  ArrTimeBlk DistanceGroup DivAirportLandings  \n",
       "0  1200-1259             1                  0  \n",
       "1  0800-0859             2                  0  \n",
       "2  1600-1659             2                  0  \n",
       "3  1600-1659             2                  0  \n",
       "4  1200-1259             2                  0  \n",
       "\n",
       "[5 rows x 61 columns]"
      ]
     },
     "execution_count": 10,
     "metadata": {},
     "output_type": "execute_result"
    }
   ],
   "source": [
    "flight_2022.limit(5).toPandas()"
   ]
  },
  {
   "cell_type": "code",
   "execution_count": 13,
   "id": "77c99ba4-42d9-43cd-a1fd-7d3c43cbd8f9",
   "metadata": {},
   "outputs": [],
   "source": [
    "### Creating the parquet file"
   ]
  },
  {
   "cell_type": "code",
   "execution_count": 14,
   "id": "26723edf-9bf8-4bd5-bb38-f0bb3318113d",
   "metadata": {},
   "outputs": [],
   "source": [
    "flight_2022.write.parquet('/etl/projects/fall_2022/jbhatia1/flight_dataset')"
   ]
  },
  {
   "cell_type": "code",
   "execution_count": 17,
   "id": "d2850d9a-040a-4753-885f-39d0999fe687",
   "metadata": {},
   "outputs": [
    {
     "data": {
      "text/plain": [
       "{'kind': 'file',\n",
       " 'name': '/etl/projects/fall_2022/jbhatia1/flight_dataset/part-00000-582a4e13-bd39-4762-bbb0-df1c21fcecc6-c000.snappy.parquet',\n",
       " 'owner': 'jbhatia1',\n",
       " 'group': 'hadoop',\n",
       " 'last_modified_time': 1670784252,\n",
       " 'last_access_time': 1670784241,\n",
       " 'size': 10942454,\n",
       " 'replication': 3,\n",
       " 'block_size': 268435456,\n",
       " 'permissions': 420}"
      ]
     },
     "execution_count": 17,
     "metadata": {},
     "output_type": "execute_result"
    }
   ],
   "source": [
    "hdfs.ls('/etl/projects/fall_2022/jbhatia1/flight_dataset',detail=True)[1]"
   ]
  },
  {
   "cell_type": "code",
   "execution_count": 21,
   "id": "127ad10d-b700-413f-a6c0-b59c3415d906",
   "metadata": {},
   "outputs": [],
   "source": [
    "#  Reading parquet file"
   ]
  },
  {
   "cell_type": "code",
   "execution_count": 23,
   "id": "8bcec998-a273-47db-be47-629ab606d18a",
   "metadata": {},
   "outputs": [],
   "source": [
    "flight_2022_df_from_parquet = spark.read.parquet('/etl/projects/fall_2022/jbhatia1/flight_dataset')"
   ]
  },
  {
   "cell_type": "code",
   "execution_count": 25,
   "id": "f5da3bb9-aa41-4c1e-9242-4eda150b527f",
   "metadata": {},
   "outputs": [],
   "source": [
    "# Verifying parquet file"
   ]
  },
  {
   "cell_type": "code",
   "execution_count": 26,
   "id": "3c28a2d8-a86c-4cd9-89cc-e740a7ee7c0e",
   "metadata": {},
   "outputs": [
    {
     "data": {
      "text/plain": [
       "DataFrame[FlightDate: string, Airline: string, Origin: string, Dest: string, Cancelled: string, Diverted: string, CRSDepTime: string, DepTime: string, DepDelayMinutes: string, DepDelay: string, ArrTime: string, ArrDelayMinutes: string, AirTime: string, CRSElapsedTime: string, ActualElapsedTime: string, Distance: string, Year: string, Quarter: string, Month: string, DayofMonth: string, DayOfWeek: string, Marketing_Airline_Network: string, Operated_or_Branded_Code_Share_Partners: string, DOT_ID_Marketing_Airline: string, IATA_Code_Marketing_Airline: string, Flight_Number_Marketing_Airline: string, Operating_Airline: string, DOT_ID_Operating_Airline: string, IATA_Code_Operating_Airline: string, Tail_Number: string, Flight_Number_Operating_Airline: string, OriginAirportID: string, OriginAirportSeqID: string, OriginCityMarketID: string, OriginCityName: string, OriginState: string, OriginStateFips: string, OriginStateName: string, OriginWac: string, DestAirportID: string, DestAirportSeqID: string, DestCityMarketID: string, DestCityName: string, DestState: string, DestStateFips: string, DestStateName: string, DestWac: string, DepDel15: string, DepartureDelayGroups: string, DepTimeBlk: string, TaxiOut: string, WheelsOff: string, WheelsOn: string, TaxiIn: string, CRSArrTime: string, ArrDelay: string, ArrDel15: string, ArrivalDelayGroups: string, ArrTimeBlk: string, DistanceGroup: string, DivAirportLandings: string]"
      ]
     },
     "execution_count": 26,
     "metadata": {},
     "output_type": "execute_result"
    }
   ],
   "source": [
    "flight_2022_df_from_parquet"
   ]
  },
  {
   "cell_type": "code",
   "execution_count": 29,
   "id": "d00d76c5-aad3-49b8-955b-0ba642a785d5",
   "metadata": {},
   "outputs": [
    {
     "data": {
      "text/html": [
       "<div>\n",
       "<style scoped>\n",
       "    .dataframe tbody tr th:only-of-type {\n",
       "        vertical-align: middle;\n",
       "    }\n",
       "\n",
       "    .dataframe tbody tr th {\n",
       "        vertical-align: top;\n",
       "    }\n",
       "\n",
       "    .dataframe thead th {\n",
       "        text-align: right;\n",
       "    }\n",
       "</style>\n",
       "<table border=\"1\" class=\"dataframe\">\n",
       "  <thead>\n",
       "    <tr style=\"text-align: right;\">\n",
       "      <th></th>\n",
       "      <th>FlightDate</th>\n",
       "      <th>Airline</th>\n",
       "      <th>Origin</th>\n",
       "      <th>Dest</th>\n",
       "      <th>Cancelled</th>\n",
       "      <th>Diverted</th>\n",
       "      <th>CRSDepTime</th>\n",
       "      <th>DepTime</th>\n",
       "      <th>DepDelayMinutes</th>\n",
       "      <th>DepDelay</th>\n",
       "      <th>...</th>\n",
       "      <th>WheelsOff</th>\n",
       "      <th>WheelsOn</th>\n",
       "      <th>TaxiIn</th>\n",
       "      <th>CRSArrTime</th>\n",
       "      <th>ArrDelay</th>\n",
       "      <th>ArrDel15</th>\n",
       "      <th>ArrivalDelayGroups</th>\n",
       "      <th>ArrTimeBlk</th>\n",
       "      <th>DistanceGroup</th>\n",
       "      <th>DivAirportLandings</th>\n",
       "    </tr>\n",
       "  </thead>\n",
       "  <tbody>\n",
       "    <tr>\n",
       "      <th>0</th>\n",
       "      <td>2022-04-19</td>\n",
       "      <td>Envoy Air</td>\n",
       "      <td>LEX</td>\n",
       "      <td>DFW</td>\n",
       "      <td>False</td>\n",
       "      <td>False</td>\n",
       "      <td>800</td>\n",
       "      <td>756.0</td>\n",
       "      <td>0.0</td>\n",
       "      <td>-4.0</td>\n",
       "      <td>...</td>\n",
       "      <td>808.0</td>\n",
       "      <td>901.0</td>\n",
       "      <td>13.0</td>\n",
       "      <td>931</td>\n",
       "      <td>-17.0</td>\n",
       "      <td>0.0</td>\n",
       "      <td>-2.0</td>\n",
       "      <td>0900-0959</td>\n",
       "      <td>4</td>\n",
       "      <td>0</td>\n",
       "    </tr>\n",
       "    <tr>\n",
       "      <th>1</th>\n",
       "      <td>2022-04-20</td>\n",
       "      <td>Envoy Air</td>\n",
       "      <td>LEX</td>\n",
       "      <td>DFW</td>\n",
       "      <td>False</td>\n",
       "      <td>False</td>\n",
       "      <td>800</td>\n",
       "      <td>753.0</td>\n",
       "      <td>0.0</td>\n",
       "      <td>-7.0</td>\n",
       "      <td>...</td>\n",
       "      <td>804.0</td>\n",
       "      <td>927.0</td>\n",
       "      <td>15.0</td>\n",
       "      <td>931</td>\n",
       "      <td>11.0</td>\n",
       "      <td>0.0</td>\n",
       "      <td>0.0</td>\n",
       "      <td>0900-0959</td>\n",
       "      <td>4</td>\n",
       "      <td>0</td>\n",
       "    </tr>\n",
       "    <tr>\n",
       "      <th>2</th>\n",
       "      <td>2022-04-21</td>\n",
       "      <td>Envoy Air</td>\n",
       "      <td>LEX</td>\n",
       "      <td>DFW</td>\n",
       "      <td>False</td>\n",
       "      <td>False</td>\n",
       "      <td>800</td>\n",
       "      <td>758.0</td>\n",
       "      <td>0.0</td>\n",
       "      <td>-2.0</td>\n",
       "      <td>...</td>\n",
       "      <td>828.0</td>\n",
       "      <td>933.0</td>\n",
       "      <td>13.0</td>\n",
       "      <td>931</td>\n",
       "      <td>15.0</td>\n",
       "      <td>1.0</td>\n",
       "      <td>1.0</td>\n",
       "      <td>0900-0959</td>\n",
       "      <td>4</td>\n",
       "      <td>0</td>\n",
       "    </tr>\n",
       "    <tr>\n",
       "      <th>3</th>\n",
       "      <td>2022-04-22</td>\n",
       "      <td>Envoy Air</td>\n",
       "      <td>LEX</td>\n",
       "      <td>DFW</td>\n",
       "      <td>False</td>\n",
       "      <td>False</td>\n",
       "      <td>800</td>\n",
       "      <td>757.0</td>\n",
       "      <td>0.0</td>\n",
       "      <td>-3.0</td>\n",
       "      <td>...</td>\n",
       "      <td>812.0</td>\n",
       "      <td>909.0</td>\n",
       "      <td>15.0</td>\n",
       "      <td>931</td>\n",
       "      <td>-7.0</td>\n",
       "      <td>0.0</td>\n",
       "      <td>-1.0</td>\n",
       "      <td>0900-0959</td>\n",
       "      <td>4</td>\n",
       "      <td>0</td>\n",
       "    </tr>\n",
       "    <tr>\n",
       "      <th>4</th>\n",
       "      <td>2022-04-23</td>\n",
       "      <td>Envoy Air</td>\n",
       "      <td>LEX</td>\n",
       "      <td>DFW</td>\n",
       "      <td>False</td>\n",
       "      <td>False</td>\n",
       "      <td>800</td>\n",
       "      <td>758.0</td>\n",
       "      <td>0.0</td>\n",
       "      <td>-2.0</td>\n",
       "      <td>...</td>\n",
       "      <td>815.0</td>\n",
       "      <td>915.0</td>\n",
       "      <td>21.0</td>\n",
       "      <td>931</td>\n",
       "      <td>5.0</td>\n",
       "      <td>0.0</td>\n",
       "      <td>0.0</td>\n",
       "      <td>0900-0959</td>\n",
       "      <td>4</td>\n",
       "      <td>0</td>\n",
       "    </tr>\n",
       "  </tbody>\n",
       "</table>\n",
       "<p>5 rows × 61 columns</p>\n",
       "</div>"
      ],
      "text/plain": [
       "   FlightDate    Airline Origin Dest Cancelled Diverted CRSDepTime DepTime  \\\n",
       "0  2022-04-19  Envoy Air    LEX  DFW     False    False        800   756.0   \n",
       "1  2022-04-20  Envoy Air    LEX  DFW     False    False        800   753.0   \n",
       "2  2022-04-21  Envoy Air    LEX  DFW     False    False        800   758.0   \n",
       "3  2022-04-22  Envoy Air    LEX  DFW     False    False        800   757.0   \n",
       "4  2022-04-23  Envoy Air    LEX  DFW     False    False        800   758.0   \n",
       "\n",
       "  DepDelayMinutes DepDelay  ... WheelsOff WheelsOn TaxiIn CRSArrTime ArrDelay  \\\n",
       "0             0.0     -4.0  ...     808.0    901.0   13.0        931    -17.0   \n",
       "1             0.0     -7.0  ...     804.0    927.0   15.0        931     11.0   \n",
       "2             0.0     -2.0  ...     828.0    933.0   13.0        931     15.0   \n",
       "3             0.0     -3.0  ...     812.0    909.0   15.0        931     -7.0   \n",
       "4             0.0     -2.0  ...     815.0    915.0   21.0        931      5.0   \n",
       "\n",
       "  ArrDel15 ArrivalDelayGroups ArrTimeBlk DistanceGroup DivAirportLandings  \n",
       "0      0.0               -2.0  0900-0959             4                  0  \n",
       "1      0.0                0.0  0900-0959             4                  0  \n",
       "2      1.0                1.0  0900-0959             4                  0  \n",
       "3      0.0               -1.0  0900-0959             4                  0  \n",
       "4      0.0                0.0  0900-0959             4                  0  \n",
       "\n",
       "[5 rows x 61 columns]"
      ]
     },
     "execution_count": 29,
     "metadata": {},
     "output_type": "execute_result"
    }
   ],
   "source": [
    "flight_2022_df_from_parquet.limit(5).toPandas()"
   ]
  },
  {
   "cell_type": "code",
   "execution_count": 40,
   "id": "b00ae849-a017-4e32-903b-4596ee616fb6",
   "metadata": {},
   "outputs": [],
   "source": [
    "# EDA"
   ]
  },
  {
   "cell_type": "code",
   "execution_count": 42,
   "id": "8e922ebe-f4b9-4d3e-83ce-14a8e75ff203",
   "metadata": {},
   "outputs": [],
   "source": [
    "# creating a temp table of the dataframe\n",
    "\n",
    "flight_2022.createOrReplaceTempView('flight_2022_t')"
   ]
  },
  {
   "cell_type": "code",
   "execution_count": 52,
   "id": "afd508b9-b8aa-4296-a9f0-8e75ec96658f",
   "metadata": {},
   "outputs": [],
   "source": [
    "cnt=spark.sql(\"select Cancelled, count(Cancelled) as count from flight_2022_t group by Cancelled\")"
   ]
  },
  {
   "cell_type": "code",
   "execution_count": 53,
   "id": "2ab9dd21-7002-47ab-9fc1-815e730bb58b",
   "metadata": {},
   "outputs": [
    {
     "name": "stdout",
     "output_type": "stream",
     "text": [
      "+---------+-------+\n",
      "|Cancelled|  count|\n",
      "+---------+-------+\n",
      "|    False|3955126|\n",
      "|     True| 123192|\n",
      "+---------+-------+\n",
      "\n"
     ]
    }
   ],
   "source": [
    "cnt.show()"
   ]
  },
  {
   "cell_type": "code",
   "execution_count": 67,
   "id": "a5ded5d6-aa16-4032-8b3b-c9de0b2ff297",
   "metadata": {},
   "outputs": [],
   "source": [
    "# Calculating null values\n",
    "\n",
    "nv=spark.sql(\" select * from flight_2022_t where FlightDate is not null\")"
   ]
  },
  {
   "cell_type": "code",
   "execution_count": 68,
   "id": "ebde4ab6-5442-4240-b7cc-ab5dc2417c43",
   "metadata": {},
   "outputs": [
    {
     "data": {
      "text/plain": [
       "4078318"
      ]
     },
     "execution_count": 68,
     "metadata": {},
     "output_type": "execute_result"
    }
   ],
   "source": [
    "nv.count()"
   ]
  },
  {
   "cell_type": "code",
   "execution_count": 69,
   "id": "dca285be-ac87-49f4-a81f-84d68f12b934",
   "metadata": {},
   "outputs": [],
   "source": [
    "a=spark.sql(\" select * from flight_2022_t\")"
   ]
  },
  {
   "cell_type": "code",
   "execution_count": 70,
   "id": "e589bb0b-3ca8-4d5b-93cc-8883ff5c33c5",
   "metadata": {},
   "outputs": [
    {
     "data": {
      "text/plain": [
       "4078318"
      ]
     },
     "execution_count": 70,
     "metadata": {},
     "output_type": "execute_result"
    }
   ],
   "source": [
    "a.count()"
   ]
  },
  {
   "cell_type": "code",
   "execution_count": 71,
   "id": "3ef61733-e894-49f4-a8eb-24207b781c8b",
   "metadata": {},
   "outputs": [],
   "source": [
    "# This shows that there are no null values in FlightDate column"
   ]
  },
  {
   "cell_type": "code",
   "execution_count": 88,
   "id": "e95efa57-9dab-41bf-9f95-ba1938a5cafa",
   "metadata": {},
   "outputs": [],
   "source": [
    "# Number of flights landing in Maryland state\n",
    "\n",
    "mf= spark.sql(\" select * from flight_2022_t where DestStateName='Maryland' \")"
   ]
  },
  {
   "cell_type": "code",
   "execution_count": 89,
   "id": "5327e4a8-d925-4222-bf15-16258cfcb2c1",
   "metadata": {},
   "outputs": [
    {
     "data": {
      "text/plain": [
       "49533"
      ]
     },
     "execution_count": 89,
     "metadata": {},
     "output_type": "execute_result"
    }
   ],
   "source": [
    "mf.count()"
   ]
  },
  {
   "cell_type": "code",
   "execution_count": 90,
   "id": "18f54cf1-5ebc-4c15-b21f-254e1dab7ebf",
   "metadata": {},
   "outputs": [],
   "source": [
    "# Number of flights landing in Maryland state that got cancelled\n",
    "\n",
    "mfc= spark.sql(\" select * from flight_2022_t where DestStateName='Maryland' and Cancelled = True \")"
   ]
  },
  {
   "cell_type": "code",
   "execution_count": 91,
   "id": "92de406d-14e8-4caf-89ca-e0324f0ab2c6",
   "metadata": {},
   "outputs": [
    {
     "data": {
      "text/plain": [
       "1826"
      ]
     },
     "execution_count": 91,
     "metadata": {},
     "output_type": "execute_result"
    }
   ],
   "source": [
    "mfc.count()"
   ]
  },
  {
   "cell_type": "code",
   "execution_count": 94,
   "id": "aec87c42-7406-43dc-9250-49223e982dec",
   "metadata": {},
   "outputs": [
    {
     "data": {
      "text/html": [
       "<div>\n",
       "<style scoped>\n",
       "    .dataframe tbody tr th:only-of-type {\n",
       "        vertical-align: middle;\n",
       "    }\n",
       "\n",
       "    .dataframe tbody tr th {\n",
       "        vertical-align: top;\n",
       "    }\n",
       "\n",
       "    .dataframe thead th {\n",
       "        text-align: right;\n",
       "    }\n",
       "</style>\n",
       "<table border=\"1\" class=\"dataframe\">\n",
       "  <thead>\n",
       "    <tr style=\"text-align: right;\">\n",
       "      <th></th>\n",
       "      <th>FlightDate</th>\n",
       "      <th>Airline</th>\n",
       "      <th>Origin</th>\n",
       "      <th>Dest</th>\n",
       "      <th>Cancelled</th>\n",
       "      <th>Diverted</th>\n",
       "      <th>CRSDepTime</th>\n",
       "      <th>DepTime</th>\n",
       "      <th>DepDelayMinutes</th>\n",
       "      <th>DepDelay</th>\n",
       "      <th>...</th>\n",
       "      <th>WheelsOff</th>\n",
       "      <th>WheelsOn</th>\n",
       "      <th>TaxiIn</th>\n",
       "      <th>CRSArrTime</th>\n",
       "      <th>ArrDelay</th>\n",
       "      <th>ArrDel15</th>\n",
       "      <th>ArrivalDelayGroups</th>\n",
       "      <th>ArrTimeBlk</th>\n",
       "      <th>DistanceGroup</th>\n",
       "      <th>DivAirportLandings</th>\n",
       "    </tr>\n",
       "  </thead>\n",
       "  <tbody>\n",
       "    <tr>\n",
       "      <th>0</th>\n",
       "      <td>2022-04-01</td>\n",
       "      <td>Southwest Airlines Co.</td>\n",
       "      <td>ALB</td>\n",
       "      <td>BWI</td>\n",
       "      <td>True</td>\n",
       "      <td>False</td>\n",
       "      <td>1435</td>\n",
       "      <td>None</td>\n",
       "      <td>None</td>\n",
       "      <td>None</td>\n",
       "      <td>...</td>\n",
       "      <td>None</td>\n",
       "      <td>None</td>\n",
       "      <td>None</td>\n",
       "      <td>1550</td>\n",
       "      <td>None</td>\n",
       "      <td>None</td>\n",
       "      <td>None</td>\n",
       "      <td>1500-1559</td>\n",
       "      <td>2</td>\n",
       "      <td>0</td>\n",
       "    </tr>\n",
       "    <tr>\n",
       "      <th>1</th>\n",
       "      <td>2022-04-01</td>\n",
       "      <td>Southwest Airlines Co.</td>\n",
       "      <td>BUF</td>\n",
       "      <td>BWI</td>\n",
       "      <td>True</td>\n",
       "      <td>False</td>\n",
       "      <td>535</td>\n",
       "      <td>None</td>\n",
       "      <td>None</td>\n",
       "      <td>None</td>\n",
       "      <td>...</td>\n",
       "      <td>None</td>\n",
       "      <td>None</td>\n",
       "      <td>None</td>\n",
       "      <td>650</td>\n",
       "      <td>None</td>\n",
       "      <td>None</td>\n",
       "      <td>None</td>\n",
       "      <td>0600-0659</td>\n",
       "      <td>2</td>\n",
       "      <td>0</td>\n",
       "    </tr>\n",
       "    <tr>\n",
       "      <th>2</th>\n",
       "      <td>2022-04-01</td>\n",
       "      <td>Southwest Airlines Co.</td>\n",
       "      <td>BUF</td>\n",
       "      <td>BWI</td>\n",
       "      <td>True</td>\n",
       "      <td>False</td>\n",
       "      <td>1345</td>\n",
       "      <td>None</td>\n",
       "      <td>None</td>\n",
       "      <td>None</td>\n",
       "      <td>...</td>\n",
       "      <td>None</td>\n",
       "      <td>None</td>\n",
       "      <td>None</td>\n",
       "      <td>1450</td>\n",
       "      <td>None</td>\n",
       "      <td>None</td>\n",
       "      <td>None</td>\n",
       "      <td>1400-1459</td>\n",
       "      <td>2</td>\n",
       "      <td>0</td>\n",
       "    </tr>\n",
       "    <tr>\n",
       "      <th>3</th>\n",
       "      <td>2022-04-01</td>\n",
       "      <td>Southwest Airlines Co.</td>\n",
       "      <td>CVG</td>\n",
       "      <td>BWI</td>\n",
       "      <td>True</td>\n",
       "      <td>False</td>\n",
       "      <td>530</td>\n",
       "      <td>None</td>\n",
       "      <td>None</td>\n",
       "      <td>None</td>\n",
       "      <td>...</td>\n",
       "      <td>None</td>\n",
       "      <td>None</td>\n",
       "      <td>None</td>\n",
       "      <td>700</td>\n",
       "      <td>None</td>\n",
       "      <td>None</td>\n",
       "      <td>None</td>\n",
       "      <td>0700-0759</td>\n",
       "      <td>2</td>\n",
       "      <td>0</td>\n",
       "    </tr>\n",
       "    <tr>\n",
       "      <th>4</th>\n",
       "      <td>2022-04-01</td>\n",
       "      <td>Southwest Airlines Co.</td>\n",
       "      <td>DTW</td>\n",
       "      <td>BWI</td>\n",
       "      <td>True</td>\n",
       "      <td>False</td>\n",
       "      <td>530</td>\n",
       "      <td>None</td>\n",
       "      <td>None</td>\n",
       "      <td>None</td>\n",
       "      <td>...</td>\n",
       "      <td>None</td>\n",
       "      <td>None</td>\n",
       "      <td>None</td>\n",
       "      <td>705</td>\n",
       "      <td>None</td>\n",
       "      <td>None</td>\n",
       "      <td>None</td>\n",
       "      <td>0700-0759</td>\n",
       "      <td>2</td>\n",
       "      <td>0</td>\n",
       "    </tr>\n",
       "    <tr>\n",
       "      <th>...</th>\n",
       "      <td>...</td>\n",
       "      <td>...</td>\n",
       "      <td>...</td>\n",
       "      <td>...</td>\n",
       "      <td>...</td>\n",
       "      <td>...</td>\n",
       "      <td>...</td>\n",
       "      <td>...</td>\n",
       "      <td>...</td>\n",
       "      <td>...</td>\n",
       "      <td>...</td>\n",
       "      <td>...</td>\n",
       "      <td>...</td>\n",
       "      <td>...</td>\n",
       "      <td>...</td>\n",
       "      <td>...</td>\n",
       "      <td>...</td>\n",
       "      <td>...</td>\n",
       "      <td>...</td>\n",
       "      <td>...</td>\n",
       "      <td>...</td>\n",
       "    </tr>\n",
       "    <tr>\n",
       "      <th>1821</th>\n",
       "      <td>2022-03-18</td>\n",
       "      <td>Southwest Airlines Co.</td>\n",
       "      <td>LGA</td>\n",
       "      <td>BWI</td>\n",
       "      <td>True</td>\n",
       "      <td>False</td>\n",
       "      <td>600</td>\n",
       "      <td>None</td>\n",
       "      <td>None</td>\n",
       "      <td>None</td>\n",
       "      <td>...</td>\n",
       "      <td>None</td>\n",
       "      <td>None</td>\n",
       "      <td>None</td>\n",
       "      <td>715</td>\n",
       "      <td>None</td>\n",
       "      <td>None</td>\n",
       "      <td>None</td>\n",
       "      <td>0700-0759</td>\n",
       "      <td>1</td>\n",
       "      <td>0</td>\n",
       "    </tr>\n",
       "    <tr>\n",
       "      <th>1822</th>\n",
       "      <td>2022-03-18</td>\n",
       "      <td>Southwest Airlines Co.</td>\n",
       "      <td>MIA</td>\n",
       "      <td>BWI</td>\n",
       "      <td>True</td>\n",
       "      <td>False</td>\n",
       "      <td>1640</td>\n",
       "      <td>None</td>\n",
       "      <td>None</td>\n",
       "      <td>None</td>\n",
       "      <td>...</td>\n",
       "      <td>None</td>\n",
       "      <td>None</td>\n",
       "      <td>None</td>\n",
       "      <td>1910</td>\n",
       "      <td>None</td>\n",
       "      <td>None</td>\n",
       "      <td>None</td>\n",
       "      <td>1900-1959</td>\n",
       "      <td>4</td>\n",
       "      <td>0</td>\n",
       "    </tr>\n",
       "    <tr>\n",
       "      <th>1823</th>\n",
       "      <td>2022-03-19</td>\n",
       "      <td>Southwest Airlines Co.</td>\n",
       "      <td>FLL</td>\n",
       "      <td>BWI</td>\n",
       "      <td>True</td>\n",
       "      <td>False</td>\n",
       "      <td>1140</td>\n",
       "      <td>None</td>\n",
       "      <td>None</td>\n",
       "      <td>None</td>\n",
       "      <td>...</td>\n",
       "      <td>None</td>\n",
       "      <td>None</td>\n",
       "      <td>None</td>\n",
       "      <td>1415</td>\n",
       "      <td>None</td>\n",
       "      <td>None</td>\n",
       "      <td>None</td>\n",
       "      <td>1400-1459</td>\n",
       "      <td>4</td>\n",
       "      <td>0</td>\n",
       "    </tr>\n",
       "    <tr>\n",
       "      <th>1824</th>\n",
       "      <td>2022-03-31</td>\n",
       "      <td>Republic Airlines</td>\n",
       "      <td>JFK</td>\n",
       "      <td>BWI</td>\n",
       "      <td>True</td>\n",
       "      <td>False</td>\n",
       "      <td>2155</td>\n",
       "      <td>None</td>\n",
       "      <td>None</td>\n",
       "      <td>None</td>\n",
       "      <td>...</td>\n",
       "      <td>None</td>\n",
       "      <td>None</td>\n",
       "      <td>None</td>\n",
       "      <td>2308</td>\n",
       "      <td>None</td>\n",
       "      <td>None</td>\n",
       "      <td>None</td>\n",
       "      <td>2300-2359</td>\n",
       "      <td>1</td>\n",
       "      <td>0</td>\n",
       "    </tr>\n",
       "    <tr>\n",
       "      <th>1825</th>\n",
       "      <td>2022-03-18</td>\n",
       "      <td>Republic Airlines</td>\n",
       "      <td>JFK</td>\n",
       "      <td>BWI</td>\n",
       "      <td>True</td>\n",
       "      <td>False</td>\n",
       "      <td>1529</td>\n",
       "      <td>None</td>\n",
       "      <td>None</td>\n",
       "      <td>None</td>\n",
       "      <td>...</td>\n",
       "      <td>None</td>\n",
       "      <td>None</td>\n",
       "      <td>None</td>\n",
       "      <td>1643</td>\n",
       "      <td>None</td>\n",
       "      <td>None</td>\n",
       "      <td>None</td>\n",
       "      <td>1600-1659</td>\n",
       "      <td>1</td>\n",
       "      <td>0</td>\n",
       "    </tr>\n",
       "  </tbody>\n",
       "</table>\n",
       "<p>1826 rows × 61 columns</p>\n",
       "</div>"
      ],
      "text/plain": [
       "      FlightDate                 Airline Origin Dest Cancelled Diverted  \\\n",
       "0     2022-04-01  Southwest Airlines Co.    ALB  BWI      True    False   \n",
       "1     2022-04-01  Southwest Airlines Co.    BUF  BWI      True    False   \n",
       "2     2022-04-01  Southwest Airlines Co.    BUF  BWI      True    False   \n",
       "3     2022-04-01  Southwest Airlines Co.    CVG  BWI      True    False   \n",
       "4     2022-04-01  Southwest Airlines Co.    DTW  BWI      True    False   \n",
       "...          ...                     ...    ...  ...       ...      ...   \n",
       "1821  2022-03-18  Southwest Airlines Co.    LGA  BWI      True    False   \n",
       "1822  2022-03-18  Southwest Airlines Co.    MIA  BWI      True    False   \n",
       "1823  2022-03-19  Southwest Airlines Co.    FLL  BWI      True    False   \n",
       "1824  2022-03-31       Republic Airlines    JFK  BWI      True    False   \n",
       "1825  2022-03-18       Republic Airlines    JFK  BWI      True    False   \n",
       "\n",
       "     CRSDepTime DepTime DepDelayMinutes DepDelay  ... WheelsOff WheelsOn  \\\n",
       "0          1435    None            None     None  ...      None     None   \n",
       "1           535    None            None     None  ...      None     None   \n",
       "2          1345    None            None     None  ...      None     None   \n",
       "3           530    None            None     None  ...      None     None   \n",
       "4           530    None            None     None  ...      None     None   \n",
       "...         ...     ...             ...      ...  ...       ...      ...   \n",
       "1821        600    None            None     None  ...      None     None   \n",
       "1822       1640    None            None     None  ...      None     None   \n",
       "1823       1140    None            None     None  ...      None     None   \n",
       "1824       2155    None            None     None  ...      None     None   \n",
       "1825       1529    None            None     None  ...      None     None   \n",
       "\n",
       "     TaxiIn CRSArrTime ArrDelay ArrDel15 ArrivalDelayGroups ArrTimeBlk  \\\n",
       "0      None       1550     None     None               None  1500-1559   \n",
       "1      None        650     None     None               None  0600-0659   \n",
       "2      None       1450     None     None               None  1400-1459   \n",
       "3      None        700     None     None               None  0700-0759   \n",
       "4      None        705     None     None               None  0700-0759   \n",
       "...     ...        ...      ...      ...                ...        ...   \n",
       "1821   None        715     None     None               None  0700-0759   \n",
       "1822   None       1910     None     None               None  1900-1959   \n",
       "1823   None       1415     None     None               None  1400-1459   \n",
       "1824   None       2308     None     None               None  2300-2359   \n",
       "1825   None       1643     None     None               None  1600-1659   \n",
       "\n",
       "     DistanceGroup DivAirportLandings  \n",
       "0                2                  0  \n",
       "1                2                  0  \n",
       "2                2                  0  \n",
       "3                2                  0  \n",
       "4                2                  0  \n",
       "...            ...                ...  \n",
       "1821             1                  0  \n",
       "1822             4                  0  \n",
       "1823             4                  0  \n",
       "1824             1                  0  \n",
       "1825             1                  0  \n",
       "\n",
       "[1826 rows x 61 columns]"
      ]
     },
     "execution_count": 94,
     "metadata": {},
     "output_type": "execute_result"
    }
   ],
   "source": [
    "mfc.toPandas()"
   ]
  },
  {
   "cell_type": "code",
   "execution_count": 179,
   "id": "036ec626-c7a2-436d-a9a8-5ca1fb738aa4",
   "metadata": {},
   "outputs": [],
   "source": [
    "# Airlines that were cancelled the most for Maryland\n",
    "\n",
    "cm=spark.sql(\" select Airline,count(Airline) as cnt from flight_2022_t where DestStateName='Maryland' and Cancelled = True group by Airline order by cnt DESC\")"
   ]
  },
  {
   "cell_type": "code",
   "execution_count": 180,
   "id": "5fd1c15b-4437-4899-a3b5-9659bab8c766",
   "metadata": {},
   "outputs": [
    {
     "name": "stdout",
     "output_type": "stream",
     "text": [
      "+--------------------+----+\n",
      "|             Airline| cnt|\n",
      "+--------------------+----+\n",
      "|Southwest Airline...|1342|\n",
      "|    Spirit Air Lines|  97|\n",
      "|American Airlines...|  94|\n",
      "|Delta Air Lines Inc.|  82|\n",
      "|   Endeavor Air Inc.|  43|\n",
      "|Frontier Airlines...|  33|\n",
      "|   Republic Airlines|  32|\n",
      "|United Air Lines ...|  27|\n",
      "|Alaska Airlines Inc.|  24|\n",
      "|Capital Cargo Int...|  17|\n",
      "|       Allegiant Air|  16|\n",
      "|         Comair Inc.|   8|\n",
      "|SkyWest Airlines ...|   6|\n",
      "|  Mesa Airlines Inc.|   3|\n",
      "|           Envoy Air|   2|\n",
      "+--------------------+----+\n",
      "\n"
     ]
    }
   ],
   "source": [
    "cm.show()"
   ]
  },
  {
   "cell_type": "code",
   "execution_count": 181,
   "id": "65415a9c-0d4f-4016-be9f-b81941e92982",
   "metadata": {},
   "outputs": [],
   "source": [
    "cm=cm.toPandas()"
   ]
  },
  {
   "cell_type": "code",
   "execution_count": 184,
   "id": "8222411c-cedc-45b3-8bec-12115bb4ced7",
   "metadata": {},
   "outputs": [
    {
     "data": {
      "image/png": "[encoded data removed]",
      "text/plain": [
       "<Figure size 864x576 with 1 Axes>"
      ]
     },
     "metadata": {
      "needs_background": "light"
     },
     "output_type": "display_data"
    }
   ],
   "source": [
    "plt.figure(figsize=(12,8))\n",
    "plt.plot(cm.Airline,cm.cnt)\n",
    "plt.xticks(rotation=90)\n",
    "plt.ylabel(\"Total number of flights getting Cancelled\")\n",
    "for x,y in zip(cm.Airline,cm.cnt):\n",
    "\n",
    "    label = \"{:.2f}\".format(y)\n",
    "\n",
    "    plt.annotate(label, # this is the text\n",
    "                 (x,y), # these are the coordinates to position the label\n",
    "                 textcoords=\"offset points\", # how to position the text\n",
    "                 xytext=(0,10), # distance from text to points (x,y)\n",
    "                 ha='center') # horizontal alignment can be left, right or center\n",
    "plt.title(\"Top  Airlines cancelling flights for Maryland in 2022\",color=\"Red\")\n",
    "plt.show()"
   ]
  },
  {
   "cell_type": "code",
   "execution_count": null,
   "id": "3be5f902-afd5-4f17-af01-fdde65d9f25c",
   "metadata": {},
   "outputs": [],
   "source": [
    "# Thus we know which flights should one book at the time for travelling."
   ]
  },
  {
   "cell_type": "code",
   "execution_count": 161,
   "id": "2197016a-95ac-449a-9e2b-4c77929bacd8",
   "metadata": {},
   "outputs": [],
   "source": [
    "# Count of specific airlines\n",
    "\n",
    "ac=spark.sql(\"Select Airline,count(Airline) as cnt from flight_2022_t group by Airline order by cnt DESC limit 10\")"
   ]
  },
  {
   "cell_type": "code",
   "execution_count": 162,
   "id": "d9fc0341-04cb-4e7d-bcda-99b4a8179cdc",
   "metadata": {},
   "outputs": [
    {
     "name": "stdout",
     "output_type": "stream",
     "text": [
      "+--------------------+------+\n",
      "|             Airline|   cnt|\n",
      "+--------------------+------+\n",
      "|Southwest Airline...|731925|\n",
      "|Delta Air Lines Inc.|512114|\n",
      "|American Airlines...|495953|\n",
      "|SkyWest Airlines ...|440807|\n",
      "|United Air Lines ...|352009|\n",
      "|   Republic Airlines|197881|\n",
      "|     JetBlue Airways|156793|\n",
      "|           Envoy Air|150758|\n",
      "|   Endeavor Air Inc.|142624|\n",
      "|         Comair Inc.|135884|\n",
      "+--------------------+------+\n",
      "\n"
     ]
    }
   ],
   "source": [
    "ac.show()"
   ]
  },
  {
   "cell_type": "code",
   "execution_count": 163,
   "id": "a0041c12-fe4f-4abe-bf85-9494488200f3",
   "metadata": {},
   "outputs": [],
   "source": [
    "ac=ac.toPandas()"
   ]
  },
  {
   "cell_type": "code",
   "execution_count": 164,
   "id": "e29e1166-617c-4f78-948e-b3d8f98db8e0",
   "metadata": {},
   "outputs": [
    {
     "data": {
      "text/html": [
       "<div>\n",
       "<style scoped>\n",
       "    .dataframe tbody tr th:only-of-type {\n",
       "        vertical-align: middle;\n",
       "    }\n",
       "\n",
       "    .dataframe tbody tr th {\n",
       "        vertical-align: top;\n",
       "    }\n",
       "\n",
       "    .dataframe thead th {\n",
       "        text-align: right;\n",
       "    }\n",
       "</style>\n",
       "<table border=\"1\" class=\"dataframe\">\n",
       "  <thead>\n",
       "    <tr style=\"text-align: right;\">\n",
       "      <th></th>\n",
       "      <th>Airline</th>\n",
       "      <th>cnt</th>\n",
       "    </tr>\n",
       "  </thead>\n",
       "  <tbody>\n",
       "    <tr>\n",
       "      <th>0</th>\n",
       "      <td>Southwest Airlines Co.</td>\n",
       "      <td>731925</td>\n",
       "    </tr>\n",
       "    <tr>\n",
       "      <th>1</th>\n",
       "      <td>Delta Air Lines Inc.</td>\n",
       "      <td>512114</td>\n",
       "    </tr>\n",
       "    <tr>\n",
       "      <th>2</th>\n",
       "      <td>American Airlines Inc.</td>\n",
       "      <td>495953</td>\n",
       "    </tr>\n",
       "    <tr>\n",
       "      <th>3</th>\n",
       "      <td>SkyWest Airlines Inc.</td>\n",
       "      <td>440807</td>\n",
       "    </tr>\n",
       "    <tr>\n",
       "      <th>4</th>\n",
       "      <td>United Air Lines Inc.</td>\n",
       "      <td>352009</td>\n",
       "    </tr>\n",
       "    <tr>\n",
       "      <th>5</th>\n",
       "      <td>Republic Airlines</td>\n",
       "      <td>197881</td>\n",
       "    </tr>\n",
       "    <tr>\n",
       "      <th>6</th>\n",
       "      <td>JetBlue Airways</td>\n",
       "      <td>156793</td>\n",
       "    </tr>\n",
       "    <tr>\n",
       "      <th>7</th>\n",
       "      <td>Envoy Air</td>\n",
       "      <td>150758</td>\n",
       "    </tr>\n",
       "    <tr>\n",
       "      <th>8</th>\n",
       "      <td>Endeavor Air Inc.</td>\n",
       "      <td>142624</td>\n",
       "    </tr>\n",
       "    <tr>\n",
       "      <th>9</th>\n",
       "      <td>Comair Inc.</td>\n",
       "      <td>135884</td>\n",
       "    </tr>\n",
       "  </tbody>\n",
       "</table>\n",
       "</div>"
      ],
      "text/plain": [
       "                  Airline     cnt\n",
       "0  Southwest Airlines Co.  731925\n",
       "1    Delta Air Lines Inc.  512114\n",
       "2  American Airlines Inc.  495953\n",
       "3   SkyWest Airlines Inc.  440807\n",
       "4   United Air Lines Inc.  352009\n",
       "5       Republic Airlines  197881\n",
       "6         JetBlue Airways  156793\n",
       "7               Envoy Air  150758\n",
       "8       Endeavor Air Inc.  142624\n",
       "9             Comair Inc.  135884"
      ]
     },
     "execution_count": 164,
     "metadata": {},
     "output_type": "execute_result"
    }
   ],
   "source": [
    "ac"
   ]
  },
  {
   "cell_type": "code",
   "execution_count": 165,
   "id": "38401dbd-aef3-4831-8527-085405969431",
   "metadata": {},
   "outputs": [],
   "source": [
    "import matplotlib.pyplot as plt"
   ]
  },
  {
   "cell_type": "code",
   "execution_count": 259,
   "id": "927e78c1-b9a8-412d-9440-9dab5d8cbdc1",
   "metadata": {},
   "outputs": [
    {
     "data": {
      "image/png": "[encoded data removed]",
      "text/plain": [
       "<Figure size 864x576 with 1 Axes>"
      ]
     },
     "metadata": {
      "needs_background": "light"
     },
     "output_type": "display_data"
    }
   ],
   "source": [
    "plt.figure(figsize=(12,8))\n",
    "plt.scatter(ac.Airline,ac.cnt)\n",
    "plt.xticks(rotation=90)\n",
    "plt.ylabel(\"Total number of flights\")\n",
    "for x,y in zip(ac.Airline,ac.cnt):\n",
    "\n",
    "    label = \"{:.2f}\".format(y)\n",
    "\n",
    "    plt.annotate(label, # this is the text\n",
    "                 (x,y), # these are the coordinates to position the label\n",
    "                 textcoords=\"offset points\", # how to position the text\n",
    "                 xytext=(0,10), # distance from text to points (x,y)\n",
    "                 ha='center') # horizontal alignment can be left, right or center\n",
    "plt.title(\"Top 10 flights in 2022\",color=\"Red\")\n",
    "plt.show()"
   ]
  },
  {
   "cell_type": "code",
   "execution_count": 248,
   "id": "4949537d-54f7-4181-9e1f-d08f0a717f21",
   "metadata": {},
   "outputs": [],
   "source": [
    "# Airlines that were Diverted the most \n",
    "\n",
    "cm=spark.sql(\" select Airline,count(Airline) as cnt from flight_2022_t where Diverted = True group by Airline order by cnt DESC\")"
   ]
  },
  {
   "cell_type": "code",
   "execution_count": 249,
   "id": "468eef01-77e6-4f3d-bce3-c43cdb57f2b1",
   "metadata": {},
   "outputs": [],
   "source": [
    "cm=cm.toPandas()"
   ]
  },
  {
   "cell_type": "code",
   "execution_count": 250,
   "id": "f9d0e7bb-2e52-4d85-96e2-df7a4a140b52",
   "metadata": {},
   "outputs": [
    {
     "data": {
      "text/html": [
       "<div>\n",
       "<style scoped>\n",
       "    .dataframe tbody tr th:only-of-type {\n",
       "        vertical-align: middle;\n",
       "    }\n",
       "\n",
       "    .dataframe tbody tr th {\n",
       "        vertical-align: top;\n",
       "    }\n",
       "\n",
       "    .dataframe thead th {\n",
       "        text-align: right;\n",
       "    }\n",
       "</style>\n",
       "<table border=\"1\" class=\"dataframe\">\n",
       "  <thead>\n",
       "    <tr style=\"text-align: right;\">\n",
       "      <th></th>\n",
       "      <th>Airline</th>\n",
       "      <th>cnt</th>\n",
       "    </tr>\n",
       "  </thead>\n",
       "  <tbody>\n",
       "    <tr>\n",
       "      <th>0</th>\n",
       "      <td>Southwest Airlines Co.</td>\n",
       "      <td>1515</td>\n",
       "    </tr>\n",
       "    <tr>\n",
       "      <th>1</th>\n",
       "      <td>American Airlines Inc.</td>\n",
       "      <td>1346</td>\n",
       "    </tr>\n",
       "    <tr>\n",
       "      <th>2</th>\n",
       "      <td>SkyWest Airlines Inc.</td>\n",
       "      <td>1209</td>\n",
       "    </tr>\n",
       "    <tr>\n",
       "      <th>3</th>\n",
       "      <td>Delta Air Lines Inc.</td>\n",
       "      <td>1063</td>\n",
       "    </tr>\n",
       "    <tr>\n",
       "      <th>4</th>\n",
       "      <td>United Air Lines Inc.</td>\n",
       "      <td>1006</td>\n",
       "    </tr>\n",
       "    <tr>\n",
       "      <th>5</th>\n",
       "      <td>JetBlue Airways</td>\n",
       "      <td>635</td>\n",
       "    </tr>\n",
       "    <tr>\n",
       "      <th>6</th>\n",
       "      <td>Republic Airlines</td>\n",
       "      <td>603</td>\n",
       "    </tr>\n",
       "    <tr>\n",
       "      <th>7</th>\n",
       "      <td>Comair Inc.</td>\n",
       "      <td>398</td>\n",
       "    </tr>\n",
       "    <tr>\n",
       "      <th>8</th>\n",
       "      <td>Envoy Air</td>\n",
       "      <td>371</td>\n",
       "    </tr>\n",
       "    <tr>\n",
       "      <th>9</th>\n",
       "      <td>Alaska Airlines Inc.</td>\n",
       "      <td>353</td>\n",
       "    </tr>\n",
       "    <tr>\n",
       "      <th>10</th>\n",
       "      <td>Endeavor Air Inc.</td>\n",
       "      <td>318</td>\n",
       "    </tr>\n",
       "    <tr>\n",
       "      <th>11</th>\n",
       "      <td>Spirit Air Lines</td>\n",
       "      <td>250</td>\n",
       "    </tr>\n",
       "    <tr>\n",
       "      <th>12</th>\n",
       "      <td>Capital Cargo International</td>\n",
       "      <td>206</td>\n",
       "    </tr>\n",
       "    <tr>\n",
       "      <th>13</th>\n",
       "      <td>Frontier Airlines Inc.</td>\n",
       "      <td>162</td>\n",
       "    </tr>\n",
       "    <tr>\n",
       "      <th>14</th>\n",
       "      <td>Allegiant Air</td>\n",
       "      <td>161</td>\n",
       "    </tr>\n",
       "    <tr>\n",
       "      <th>15</th>\n",
       "      <td>Mesa Airlines Inc.</td>\n",
       "      <td>157</td>\n",
       "    </tr>\n",
       "    <tr>\n",
       "      <th>16</th>\n",
       "      <td>Commutair Aka Champlain Enterprises, Inc.</td>\n",
       "      <td>134</td>\n",
       "    </tr>\n",
       "    <tr>\n",
       "      <th>17</th>\n",
       "      <td>Horizon Air</td>\n",
       "      <td>100</td>\n",
       "    </tr>\n",
       "    <tr>\n",
       "      <th>18</th>\n",
       "      <td>Air Wisconsin Airlines Corp</td>\n",
       "      <td>100</td>\n",
       "    </tr>\n",
       "    <tr>\n",
       "      <th>19</th>\n",
       "      <td>GoJet Airlines, LLC d/b/a United Express</td>\n",
       "      <td>83</td>\n",
       "    </tr>\n",
       "    <tr>\n",
       "      <th>20</th>\n",
       "      <td>Hawaiian Airlines Inc.</td>\n",
       "      <td>40</td>\n",
       "    </tr>\n",
       "  </tbody>\n",
       "</table>\n",
       "</div>"
      ],
      "text/plain": [
       "                                      Airline   cnt\n",
       "0                      Southwest Airlines Co.  1515\n",
       "1                      American Airlines Inc.  1346\n",
       "2                       SkyWest Airlines Inc.  1209\n",
       "3                        Delta Air Lines Inc.  1063\n",
       "4                       United Air Lines Inc.  1006\n",
       "5                             JetBlue Airways   635\n",
       "6                           Republic Airlines   603\n",
       "7                                 Comair Inc.   398\n",
       "8                                   Envoy Air   371\n",
       "9                        Alaska Airlines Inc.   353\n",
       "10                          Endeavor Air Inc.   318\n",
       "11                           Spirit Air Lines   250\n",
       "12                Capital Cargo International   206\n",
       "13                     Frontier Airlines Inc.   162\n",
       "14                              Allegiant Air   161\n",
       "15                         Mesa Airlines Inc.   157\n",
       "16  Commutair Aka Champlain Enterprises, Inc.   134\n",
       "17                                Horizon Air   100\n",
       "18                Air Wisconsin Airlines Corp   100\n",
       "19   GoJet Airlines, LLC d/b/a United Express    83\n",
       "20                     Hawaiian Airlines Inc.    40"
      ]
     },
     "execution_count": 250,
     "metadata": {},
     "output_type": "execute_result"
    }
   ],
   "source": [
    "cm"
   ]
  },
  {
   "cell_type": "code",
   "execution_count": 263,
   "id": "4622dda3-3567-44cd-bc69-a6767cc1442c",
   "metadata": {},
   "outputs": [
    {
     "data": {
      "image/png": "[encoded data removed]",
      "text/plain": [
       "<Figure size 864x576 with 1 Axes>"
      ]
     },
     "metadata": {
      "needs_background": "light"
     },
     "output_type": "display_data"
    }
   ],
   "source": [
    "plt.figure(figsize=(12,8))\n",
    "plt.stackplot(cm.Airline,cm.cnt,color=[\"yellow\"])\n",
    "plt.xticks(rotation=90)\n",
    "plt.ylabel(\"Total number of flights getting Deviated\")\n",
    "for x,y in zip(cm.Airline,cm.cnt):\n",
    "\n",
    "    label = \"{:.2f}\".format(y)\n",
    "\n",
    "    plt.annotate(label, # this is the text\n",
    "                 (x,y), # these are the coordinates to position the label\n",
    "                 textcoords=\"offset points\", # how to position the text\n",
    "                 xytext=(0,10), # distance from text to points (x,y)\n",
    "                 ha='center') # horizontal alignment can be left, right or center\n",
    "plt.title(\"Top  Airlines deviated flights in 2022\",color=\"Blue\")\n",
    "plt.show()"
   ]
  },
  {
   "cell_type": "code",
   "execution_count": 202,
   "id": "12829441-ff97-4870-b870-5c8764bdd1e6",
   "metadata": {},
   "outputs": [],
   "source": [
    "# The most famous cities that people prefer to travel in 2022\n",
    "\n",
    "cm=spark.sql(\" select DestCityName,count(DestCityName) as cnt from flight_2022_t group by DestCityName order by cnt DESC limit 5\")"
   ]
  },
  {
   "cell_type": "code",
   "execution_count": 203,
   "id": "6f2888e9-5d11-4a04-9c15-cdbc19f26a9a",
   "metadata": {},
   "outputs": [
    {
     "name": "stdout",
     "output_type": "stream",
     "text": [
      "+--------------------+------+\n",
      "|        DestCityName|   cnt|\n",
      "+--------------------+------+\n",
      "|         Chicago, IL|213516|\n",
      "|         Atlanta, GA|183671|\n",
      "|        New York, NY|179370|\n",
      "|Dallas/Fort Worth...|161215|\n",
      "|          Denver, CO|158095|\n",
      "+--------------------+------+\n",
      "\n"
     ]
    }
   ],
   "source": [
    "cm.show()"
   ]
  },
  {
   "cell_type": "code",
   "execution_count": 204,
   "id": "f3cca89e-51d1-4c12-8198-a8bdbe70d420",
   "metadata": {},
   "outputs": [],
   "source": [
    "cm=cm.toPandas()"
   ]
  },
  {
   "cell_type": "code",
   "execution_count": 205,
   "id": "f6690db3-9ca4-4063-aeda-fedb75bdaa0c",
   "metadata": {},
   "outputs": [
    {
     "data": {
      "text/html": [
       "<div>\n",
       "<style scoped>\n",
       "    .dataframe tbody tr th:only-of-type {\n",
       "        vertical-align: middle;\n",
       "    }\n",
       "\n",
       "    .dataframe tbody tr th {\n",
       "        vertical-align: top;\n",
       "    }\n",
       "\n",
       "    .dataframe thead th {\n",
       "        text-align: right;\n",
       "    }\n",
       "</style>\n",
       "<table border=\"1\" class=\"dataframe\">\n",
       "  <thead>\n",
       "    <tr style=\"text-align: right;\">\n",
       "      <th></th>\n",
       "      <th>DestCityName</th>\n",
       "      <th>cnt</th>\n",
       "    </tr>\n",
       "  </thead>\n",
       "  <tbody>\n",
       "    <tr>\n",
       "      <th>0</th>\n",
       "      <td>Chicago, IL</td>\n",
       "      <td>213516</td>\n",
       "    </tr>\n",
       "    <tr>\n",
       "      <th>1</th>\n",
       "      <td>Atlanta, GA</td>\n",
       "      <td>183671</td>\n",
       "    </tr>\n",
       "    <tr>\n",
       "      <th>2</th>\n",
       "      <td>New York, NY</td>\n",
       "      <td>179370</td>\n",
       "    </tr>\n",
       "    <tr>\n",
       "      <th>3</th>\n",
       "      <td>Dallas/Fort Worth, TX</td>\n",
       "      <td>161215</td>\n",
       "    </tr>\n",
       "    <tr>\n",
       "      <th>4</th>\n",
       "      <td>Denver, CO</td>\n",
       "      <td>158095</td>\n",
       "    </tr>\n",
       "  </tbody>\n",
       "</table>\n",
       "</div>"
      ],
      "text/plain": [
       "            DestCityName     cnt\n",
       "0            Chicago, IL  213516\n",
       "1            Atlanta, GA  183671\n",
       "2           New York, NY  179370\n",
       "3  Dallas/Fort Worth, TX  161215\n",
       "4             Denver, CO  158095"
      ]
     },
     "execution_count": 205,
     "metadata": {},
     "output_type": "execute_result"
    }
   ],
   "source": [
    "cm"
   ]
  },
  {
   "cell_type": "code",
   "execution_count": 212,
   "id": "1a90b3fd-da43-45ff-b6b3-de62b63aa1ed",
   "metadata": {},
   "outputs": [
    {
     "data": {
      "image/png": "[encoded data removed]",
      "text/plain": [
       "<Figure size 864x576 with 1 Axes>"
      ]
     },
     "metadata": {},
     "output_type": "display_data"
    }
   ],
   "source": [
    "plt.figure(figsize=(12,8))\n",
    "plt.pie(cm.cnt,explode=[0.1,0,0,0,0],labels=cm.DestCityName,autopct='%1.1f%%',shadow=True, startangle=90)\n",
    "plt.show()"
   ]
  },
  {
   "cell_type": "code",
   "execution_count": 265,
   "id": "88b2ea0f-7507-4035-9533-d1881cea111b",
   "metadata": {},
   "outputs": [],
   "source": [
    "# Since my dream state is California i want to now the flights that connect between California and Maryland \n",
    "\n",
    "cm=spark.sql(\"select Airline, count(Airline) as cnt, OriginStateName, DestStateName from flight_2022_t where OriginStateName='Maryland' and DestStateName='California' group by Airline, OriginStateName, DestStateName order by cnt DESC\")"
   ]
  },
  {
   "cell_type": "code",
   "execution_count": 266,
   "id": "8ea29c0d-7d53-4049-bb04-656cf5cd9cae",
   "metadata": {},
   "outputs": [
    {
     "name": "stdout",
     "output_type": "stream",
     "text": [
      "+--------------------+---+---------------+-------------+\n",
      "|             Airline|cnt|OriginStateName|DestStateName|\n",
      "+--------------------+---+---------------+-------------+\n",
      "|Southwest Airline...|452|       Maryland|   California|\n",
      "|United Air Lines ...|340|       Maryland|   California|\n",
      "|    Spirit Air Lines|192|       Maryland|   California|\n",
      "+--------------------+---+---------------+-------------+\n",
      "\n"
     ]
    }
   ],
   "source": [
    "cm.show()"
   ]
  },
  {
   "cell_type": "code",
   "execution_count": 267,
   "id": "8592136c-3166-4aa5-b2a9-e0589ccd9742",
   "metadata": {},
   "outputs": [],
   "source": [
    "cm=cm.toPandas()"
   ]
  },
  {
   "cell_type": "code",
   "execution_count": 268,
   "id": "c9547791-efa6-47dc-a0c5-8aa6ced21abc",
   "metadata": {},
   "outputs": [
    {
     "data": {
      "text/html": [
       "<div>\n",
       "<style scoped>\n",
       "    .dataframe tbody tr th:only-of-type {\n",
       "        vertical-align: middle;\n",
       "    }\n",
       "\n",
       "    .dataframe tbody tr th {\n",
       "        vertical-align: top;\n",
       "    }\n",
       "\n",
       "    .dataframe thead th {\n",
       "        text-align: right;\n",
       "    }\n",
       "</style>\n",
       "<table border=\"1\" class=\"dataframe\">\n",
       "  <thead>\n",
       "    <tr style=\"text-align: right;\">\n",
       "      <th></th>\n",
       "      <th>Airline</th>\n",
       "      <th>cnt</th>\n",
       "      <th>OriginStateName</th>\n",
       "      <th>DestStateName</th>\n",
       "    </tr>\n",
       "  </thead>\n",
       "  <tbody>\n",
       "    <tr>\n",
       "      <th>0</th>\n",
       "      <td>Southwest Airlines Co.</td>\n",
       "      <td>452</td>\n",
       "      <td>Maryland</td>\n",
       "      <td>California</td>\n",
       "    </tr>\n",
       "    <tr>\n",
       "      <th>1</th>\n",
       "      <td>United Air Lines Inc.</td>\n",
       "      <td>340</td>\n",
       "      <td>Maryland</td>\n",
       "      <td>California</td>\n",
       "    </tr>\n",
       "    <tr>\n",
       "      <th>2</th>\n",
       "      <td>Spirit Air Lines</td>\n",
       "      <td>192</td>\n",
       "      <td>Maryland</td>\n",
       "      <td>California</td>\n",
       "    </tr>\n",
       "  </tbody>\n",
       "</table>\n",
       "</div>"
      ],
      "text/plain": [
       "                  Airline  cnt OriginStateName DestStateName\n",
       "0  Southwest Airlines Co.  452        Maryland    California\n",
       "1   United Air Lines Inc.  340        Maryland    California\n",
       "2        Spirit Air Lines  192        Maryland    California"
      ]
     },
     "execution_count": 268,
     "metadata": {},
     "output_type": "execute_result"
    }
   ],
   "source": [
    "cm"
   ]
  },
  {
   "cell_type": "code",
   "execution_count": 269,
   "id": "3bd62907-19db-4eff-b606-8555ae85af5f",
   "metadata": {},
   "outputs": [
    {
     "data": {
      "image/png": "[encoded data removed]",
      "text/plain": [
       "<Figure size 576x576 with 1 Axes>"
      ]
     },
     "metadata": {
      "needs_background": "light"
     },
     "output_type": "display_data"
    }
   ],
   "source": [
    "plt.figure(figsize=(8,8))\n",
    "plt.stackplot(cm.Airline,cm.cnt)\n",
    "plt.xticks(rotation=90)\n",
    "plt.ylabel(\"Total number of flights getting Deviated\")\n",
    "for x,y in zip(cm.Airline,cm.cnt):\n",
    "\n",
    "    label = \"{:.2f}\".format(y)\n",
    "\n",
    "    plt.annotate(label, # this is the text\n",
    "                 (x,y), # these are the coordinates to position the label\n",
    "                 textcoords=\"offset points\", # how to position the text\n",
    "                 xytext=(0,10), # distance from text to points (x,y)\n",
    "                 ha='center') # horizontal alignment can be left, right or center\n",
    "plt.title(\"Top  Airlines deviated flights in 2022\",color=\"Blue\")\n",
    "plt.show()"
   ]
  },
  {
   "cell_type": "code",
   "execution_count": null,
   "id": "3dee29e7-f315-4744-907c-a199cf47200d",
   "metadata": {},
   "outputs": [],
   "source": []
  }
 ],
 "metadata": {
  "kernelspec": {
   "display_name": "Python 3 (ipykernel)",
   "language": "python",
   "name": "python3"
  },
  "language_info": {
   "codemirror_mode": {
    "name": "ipython",
    "version": 3
   },
   "file_extension": ".py",
   "mimetype": "text/x-python",
   "name": "python",
   "nbconvert_exporter": "python",
   "pygments_lexer": "ipython3",
   "version": "3.8.15"
  }
 },
 "nbformat": 4,
 "nbformat_minor": 5
}
